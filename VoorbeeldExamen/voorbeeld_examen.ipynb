{
 "cells": [
  {
   "cell_type": "markdown",
   "metadata": {},
   "source": [
    "# Oplossingen voorbeeldexamen 2022"
   ]
  },
  {
   "cell_type": "code",
   "execution_count": 1,
   "metadata": {},
   "outputs": [],
   "source": [
    "# Package imports for data science\n",
    "import numpy as np\n",
    "import pandas as pd\n",
    "import scipy.stats as stats\n",
    "import matplotlib.pyplot as plt\n",
    "import seaborn as sns\n",
    "from statsmodels.graphics.mosaicplot import mosaic"
   ]
  },
  {
   "cell_type": "markdown",
   "metadata": {},
   "source": [
    "## Vraag 1\n",
    "\n",
    "Dichtbij 0 \n",
    "Omdat de punten heel hard verspreid zijn, er is geen echt verband. => waarde dichtbij 0  \n",
    "Het kan niet 0,5 zijn omdat de lijn een beetje daalt.  \n",
    "R moet negatief want het kleine verband dat zichtbaar is is dalend. => R > 0 => R ligt bij 0 maar aan de onderkant van 0.    \n",
    "R -> 2 dingen (de sterkte van het verband + of het verband stijgend of dalend is)  "
   ]
  },
  {
   "cell_type": "markdown",
   "metadata": {},
   "source": [
    "## Vraag 2 (hoofdstuk 1)\n",
    "\n",
    "Beschouw volgend experiment. In een school met 100 jongens en 100 meisjes gooi je een\n",
    "muntstuk. Je zet eerst alle jongens en meisjes gesorteerd in twee rijen. Als het op kruis valt\n",
    "kies je de eerste jongen uit de jongensrij. Als het op munt valt kies je het eerste meisje uit\n",
    "de meisjesrij. Dit herhaal je tot je 10 leerlingen gevonden hebt en levert je een steekproef van\n",
    "grootte 10.\n",
    "\n",
    "(a) Geen aselecte steekproef, want je kiest altijd de eerste uit een gesorteerde lijst.  \n",
    "(b) Neen. Omwille van antwoord a. Wat er nog positief is: je kiest wel willekeurig meisjes of jongens.  \n",
    "(c) Systematic sampling error want de achterste hebben sowieso geen kans om gekozen te worden.  "
   ]
  },
  {
   "cell_type": "markdown",
   "metadata": {},
   "source": [
    "## Vraag 3 (hoofstuk 4)\n",
    "(a) P(x) < 230 -> 0.048  \n",
    "(b) P(x > 220) -> 0.994  \n",
    "(c) P(245 < x < 278) -> 0.652  \n",
    "(d) [241.906, 258.094]  "
   ]
  },
  {
   "cell_type": "code",
   "execution_count": 7,
   "metadata": {},
   "outputs": [
    {
     "name": "stdout",
     "output_type": "stream",
     "text": [
      "1. P(x < 230) ~= 0.048\n",
      "2. P(x > 220) ~= 0.994\n",
      "3. P(245 < x < 278) ~= 0.652\n",
      "ondergrens ~= 241.906\n",
      "bovengrens ~= 258.094\n"
     ]
    }
   ],
   "source": [
    "m = 250\n",
    "s = 12\n",
    "\n",
    "# a\n",
    "print(\"1. P(x < 230) ~= %.3f\" % stats.norm.cdf(230, loc=m, scale=s))\n",
    "# b\n",
    "print(\"2. P(x > 220) ~= %.3f\" % stats.norm.sf(220, loc=m, scale=s))\n",
    "# c\n",
    "print(\"3. P(245 < x < 278) ~= %.3f\" % (stats.norm.cdf(278, loc=m, scale=s) - stats.norm.cdf(245, loc=m, scale=s)))\n",
    "# d\n",
    "print(\"ondergrens ~= %.3f\" % stats.norm.isf(1-0.25, loc=m, scale=s))\n",
    "print(\"bovengrens ~= %.3f\" % stats.norm.isf(0.25, loc=m, scale=s))"
   ]
  },
  {
   "cell_type": "markdown",
   "metadata": {},
   "source": [
    "## Vraag 4 (hoofdstuk 3) \n",
    "\n",
    "[9.8838, 11.6162]  "
   ]
  },
  {
   "cell_type": "code",
   "execution_count": 3,
   "metadata": {},
   "outputs": [
    {
     "data": {
      "text/html": [
       "<div>\n",
       "<style scoped>\n",
       "    .dataframe tbody tr th:only-of-type {\n",
       "        vertical-align: middle;\n",
       "    }\n",
       "\n",
       "    .dataframe tbody tr th {\n",
       "        vertical-align: top;\n",
       "    }\n",
       "\n",
       "    .dataframe thead th {\n",
       "        text-align: right;\n",
       "    }\n",
       "</style>\n",
       "<table border=\"1\" class=\"dataframe\">\n",
       "  <thead>\n",
       "    <tr style=\"text-align: right;\">\n",
       "      <th></th>\n",
       "      <th>Months</th>\n",
       "    </tr>\n",
       "  </thead>\n",
       "  <tbody>\n",
       "    <tr>\n",
       "      <th>0</th>\n",
       "      <td>15</td>\n",
       "    </tr>\n",
       "    <tr>\n",
       "      <th>1</th>\n",
       "      <td>7</td>\n",
       "    </tr>\n",
       "    <tr>\n",
       "      <th>2</th>\n",
       "      <td>13</td>\n",
       "    </tr>\n",
       "    <tr>\n",
       "      <th>3</th>\n",
       "      <td>11</td>\n",
       "    </tr>\n",
       "    <tr>\n",
       "      <th>4</th>\n",
       "      <td>16</td>\n",
       "    </tr>\n",
       "  </tbody>\n",
       "</table>\n",
       "</div>"
      ],
      "text/plain": [
       "   Months\n",
       "0      15\n",
       "1       7\n",
       "2      13\n",
       "3      11\n",
       "4      16"
      ]
     },
     "execution_count": 3,
     "metadata": {},
     "output_type": "execute_result"
    }
   ],
   "source": [
    "df = pd.DataFrame(data={'Months': [\n",
    "15, 7,13,11,16,11,10, 6,11, 7,\n",
    "15,14, 7,11,11,10, 8, 9,10,13\n",
    "]})\n",
    "\n",
    "df.head()"
   ]
  },
  {
   "cell_type": "code",
   "execution_count": 9,
   "metadata": {},
   "outputs": [
    {
     "name": "stdout",
     "output_type": "stream",
     "text": [
      "t-score: 1.32773\n",
      "Confidence interval: [9.8838, 11.6162]\n"
     ]
    }
   ],
   "source": [
    "# Step 1.\n",
    "m = df.Months.mean()        # Sample mean\n",
    "s = df.Months.std()         # Population standard deviation\n",
    "n = df.Months.count()       # Sample size\n",
    "alpha = .20                 #  1 - alpha is the confidence level want 80% is gevraagd\n",
    "\n",
    "# Stap 2.\n",
    "t = stats.t.isf(alpha/2, df = n - 1)\n",
    "print(\"t-score: %.5f\" % t)\n",
    "\n",
    "# Stap 3.\n",
    "lo = m - t * s / np.sqrt(n)\n",
    "hi = m + t * s / np.sqrt(n)\n",
    "print(\"Confidence interval: [%.4f, %.4f]\" % (lo, hi))"
   ]
  },
  {
   "cell_type": "markdown",
   "metadata": {},
   "source": [
    "## Vraag 5 (hoofdstuk 5)\n",
    "\n",
    "(a)  Two sample t test for paired samples  \n",
    "\n",
    "(b)  H0 = de metingen op het tweede tijdstîp zijn niet significant verschillend van die op het 1ste tijdstip  \n",
    "H1 = de metingen op het tweede tijdstip zijn significant verschillende van die op het 1ste tijdstip  \n",
    "\n",
    "(c) pvalue = 0.87 of 87%  \n",
    "\n",
    "(d) De p-waarde is 87% en is >> (veel groter) 5% => er is niet voldoende bewijs om H0 te verwerpen  \n",
    "\n",
    "(e) De interkwartielafstand is 16.5  \n",
    "De kurtosis is 0.158\n",
    "Het bereik is 45  \n",
    "De standaardafwijking is 13.097  "
   ]
  },
  {
   "cell_type": "code",
   "execution_count": 10,
   "metadata": {},
   "outputs": [
    {
     "data": {
      "text/html": [
       "<div>\n",
       "<style scoped>\n",
       "    .dataframe tbody tr th:only-of-type {\n",
       "        vertical-align: middle;\n",
       "    }\n",
       "\n",
       "    .dataframe tbody tr th {\n",
       "        vertical-align: top;\n",
       "    }\n",
       "\n",
       "    .dataframe thead th {\n",
       "        text-align: right;\n",
       "    }\n",
       "</style>\n",
       "<table border=\"1\" class=\"dataframe\">\n",
       "  <thead>\n",
       "    <tr style=\"text-align: right;\">\n",
       "      <th></th>\n",
       "      <th>time1</th>\n",
       "      <th>time2</th>\n",
       "    </tr>\n",
       "  </thead>\n",
       "  <tbody>\n",
       "    <tr>\n",
       "      <th>0</th>\n",
       "      <td>65</td>\n",
       "      <td>82</td>\n",
       "    </tr>\n",
       "    <tr>\n",
       "      <th>1</th>\n",
       "      <td>87</td>\n",
       "      <td>91</td>\n",
       "    </tr>\n",
       "    <tr>\n",
       "      <th>2</th>\n",
       "      <td>59</td>\n",
       "      <td>86</td>\n",
       "    </tr>\n",
       "    <tr>\n",
       "      <th>3</th>\n",
       "      <td>71</td>\n",
       "      <td>83</td>\n",
       "    </tr>\n",
       "    <tr>\n",
       "      <th>4</th>\n",
       "      <td>58</td>\n",
       "      <td>85</td>\n",
       "    </tr>\n",
       "  </tbody>\n",
       "</table>\n",
       "</div>"
      ],
      "text/plain": [
       "   time1  time2\n",
       "0     65     82\n",
       "1     87     91\n",
       "2     59     86\n",
       "3     71     83\n",
       "4     58     85"
      ]
     },
     "execution_count": 10,
     "metadata": {},
     "output_type": "execute_result"
    }
   ],
   "source": [
    "df = pd.DataFrame(data={\n",
    "'time1': [65, 87, 59, 71, 58, 74, 55, 98, 62, 53, 84, 63, 78, 62, 60],\n",
    "'time2': [82, 91, 86, 83, 85, 51, 65, 61, 76, 65, 53, 70, 51, 55, 68]\n",
    "})\n",
    "\n",
    "df.head()"
   ]
  },
  {
   "cell_type": "code",
   "execution_count": null,
   "metadata": {},
   "outputs": [],
   "source": [
    "# (a) Welke statistische toets moet je gebruiken om deze onderzoeksvraag te beantwoorden? Wees zo specifiek mogelijk!\n",
    "# two sample t test for paired samples"
   ]
  },
  {
   "cell_type": "code",
   "execution_count": null,
   "metadata": {},
   "outputs": [],
   "source": [
    "# (b) Formuleer de nulhypothese en de alternatieve hypothese.\n",
    "# H0 = de metingen op het tweede tijdstîp zijn niet significant verschillend van die op het 1ste tijdstip\n",
    "# H1 = de metingen op het tweede tijdstip zijn significant verschillende van die op het 1ste tijdstip"
   ]
  },
  {
   "cell_type": "code",
   "execution_count": 23,
   "metadata": {},
   "outputs": [
    {
     "name": "stdout",
     "output_type": "stream",
     "text": [
      "0.8743994859994443\n"
     ]
    }
   ],
   "source": [
    "# (c) Bereken de p-waarde.\n",
    "# Measurements:\n",
    "time1 = np.array(df.time1)\n",
    "time2 = np.array(df.time2)\n",
    "\n",
    "# Paired t-test \n",
    "s, pvalue = stats.ttest_rel(time1, time2, alternative='two-sided')\n",
    "print(pvalue)"
   ]
  },
  {
   "cell_type": "code",
   "execution_count": 24,
   "metadata": {},
   "outputs": [
    {
     "name": "stdout",
     "output_type": "stream",
     "text": [
      "De p-waarde is 0.8743994859994443 en is < 5% => er is niet voldoende bewijs om H0 te verwerpen\n"
     ]
    }
   ],
   "source": [
    "# (d) Trek een besluit op basis van de vorige stap en formuleer een antwoord op de onderzoeksvraag.\n",
    "print(f\"De p-waarde is {pvalue} en is > 5% => er is niet voldoende bewijs om H0 te verwerpen\")"
   ]
  },
  {
   "cell_type": "code",
   "execution_count": 15,
   "metadata": {},
   "outputs": [
    {
     "name": "stdout",
     "output_type": "stream",
     "text": [
      "De interkwartielafstand is 16.5\n",
      "De kurtosis is 0.15796776764037945\n",
      "Het bereik is 45\n",
      "De standaardafwijking is 13.09743704481366\n"
     ]
    }
   ],
   "source": [
    "# (e) Geef voor de observaties op tijdstip time1:\n",
    "# (i) De interkwartielafstand\n",
    "# (ii) De kurtosis\n",
    "# (iii) Het bereik\n",
    "# (iv) De standaardafwijking\n",
    "\n",
    "print(f\"De interkwartielafstand is {df.time1.quantile(0.75) - df.time1.quantile(0.25)}\") # 3de kwartiel - 1ste kwartiel\n",
    "print(f\"De kurtosis is {df.time1.kurtosis()}\")\n",
    "print(f\"Het bereik is {df.time1.max() - df.time1.min()}\")\n",
    "print(f\"De standaardafwijking is {df.time1.std(ddof = 1)}\")"
   ]
  },
  {
   "cell_type": "markdown",
   "metadata": {},
   "source": [
    "## Vraag 6 (hoofdstuk 4)\n",
    "\n",
    "(a) chi test^2 - goodness of fit  \n",
    "\n",
    "(b) H0: de klanten vonden de 3 producten even goed  \n",
    " H1: De klanten vonden niet alle 3 de producten even goed  \n",
    " \n",
    "(c)\n",
    "\n",
    "(d) p waarde = 0.00000017\n",
    "\n",
    "(e) P-waarde is 0.00000017 is << 0.05 => er is voldoende aanwijzing om de H0 hypothese te verwerpen  \n",
    "chi^2 is 31.2 is >> 5.99 => er is voldoende aanwijzing om de H0 hypothese te verwerpen  \n",
    "\n",
    "(f) De klanten hadden zeker niet evenveel voorkeur voor elk van de 3 producten. Er was geen significante voorkeur was voor product C noch voor product b."
   ]
  },
  {
   "cell_type": "code",
   "execution_count": 6,
   "metadata": {},
   "outputs": [
    {
     "data": {
      "text/html": [
       "<div>\n",
       "<style scoped>\n",
       "    .dataframe tbody tr th:only-of-type {\n",
       "        vertical-align: middle;\n",
       "    }\n",
       "\n",
       "    .dataframe tbody tr th {\n",
       "        vertical-align: top;\n",
       "    }\n",
       "\n",
       "    .dataframe thead th {\n",
       "        text-align: right;\n",
       "    }\n",
       "</style>\n",
       "<table border=\"1\" class=\"dataframe\">\n",
       "  <thead>\n",
       "    <tr style=\"text-align: right;\">\n",
       "      <th></th>\n",
       "      <th>Choice</th>\n",
       "    </tr>\n",
       "  </thead>\n",
       "  <tbody>\n",
       "    <tr>\n",
       "      <th>count</th>\n",
       "      <td>90</td>\n",
       "    </tr>\n",
       "    <tr>\n",
       "      <th>unique</th>\n",
       "      <td>3</td>\n",
       "    </tr>\n",
       "    <tr>\n",
       "      <th>top</th>\n",
       "      <td>Product C</td>\n",
       "    </tr>\n",
       "    <tr>\n",
       "      <th>freq</th>\n",
       "      <td>48</td>\n",
       "    </tr>\n",
       "  </tbody>\n",
       "</table>\n",
       "</div>"
      ],
      "text/plain": [
       "           Choice\n",
       "count          90\n",
       "unique          3\n",
       "top     Product C\n",
       "freq           48"
      ]
     },
     "execution_count": 6,
     "metadata": {},
     "output_type": "execute_result"
    }
   ],
   "source": [
    "df = pd.DataFrame(data={'Choice': [\n",
    "\"Product A\",\"Product A\",\"Product B\",\"Product B\",\"Product C\",\n",
    "\"Product B\",\"Product B\",\"Product B\",\"Product C\",\"Product B\",\n",
    "\"Product C\",\"Product A\",\"Product C\",\"Product B\",\"Product C\",\n",
    "\"Product B\",\"Product C\",\"Product C\",\"Product C\",\"Product B\",\n",
    "\"Product C\",\"Product C\",\"Product B\",\"Product C\",\"Product B\",\n",
    "\"Product B\",\"Product B\",\"Product B\",\"Product A\",\"Product B\",\n",
    "\"Product B\",\"Product B\",\"Product B\",\"Product B\",\"Product C\",\n",
    "\"Product C\",\"Product B\",\"Product C\",\"Product C\",\"Product A\",\n",
    "\"Product C\",\"Product C\",\"Product B\",\"Product B\",\"Product B\",\n",
    "\"Product B\",\"Product C\",\"Product C\",\"Product C\",\"Product C\",\n",
    "\"Product C\",\"Product B\",\"Product A\",\"Product C\",\"Product C\",\n",
    "\"Product B\",\"Product B\",\"Product C\",\"Product C\",\"Product C\",\n",
    "\"Product B\",\"Product C\",\"Product B\",\"Product B\",\"Product C\",\n",
    "\"Product B\",\"Product B\",\"Product C\",\"Product C\",\"Product B\",\n",
    "\"Product C\",\"Product C\",\"Product C\",\"Product B\",\"Product B\",\n",
    "\"Product C\",\"Product C\",\"Product C\",\"Product C\",\"Product C\",\n",
    "\"Product C\",\"Product C\",\"Product C\",\"Product C\",\"Product C\",\n",
    "\"Product C\",\"Product C\",\"Product C\",\"Product C\",\"Product B\"\n",
    "]})\n",
    "\n",
    "#df.head()\n",
    "df.describe()"
   ]
  },
  {
   "cell_type": "code",
   "execution_count": null,
   "metadata": {},
   "outputs": [],
   "source": [
    "# (a) Welke hypothesetoets ga je toepassen om deze onderzoeksvraag te beantwoorden? Wees zo specifiek mogelijk!\n",
    "# chi test^2 - goodness of fit"
   ]
  },
  {
   "cell_type": "code",
   "execution_count": null,
   "metadata": {},
   "outputs": [],
   "source": [
    "# (b) Formuleer de nulhypothese en de alternatieve hypothese\n",
    "# H0: de klanten vonden de 3 producten even goed\n",
    "# H1: De klanten vonden niet alle 3 de producten even goed"
   ]
  },
  {
   "cell_type": "code",
   "execution_count": 7,
   "metadata": {},
   "outputs": [
    {
     "name": "stdout",
     "output_type": "stream",
     "text": [
      "Product C    48\n",
      "Product B    36\n",
      "Product A     6\n",
      "Name: Choice, dtype: int64\n"
     ]
    }
   ],
   "source": [
    "# (c) Bereken de gepaste toetsingsgrootheid (teststatistiek) voor deze toets. Geef het symbool en de waarde\n",
    "observed = df.Choice.value_counts()\n",
    "print(observed)\n",
    "expected_p = np.array([1/3, 1/3, 1/3])\n"
   ]
  },
  {
   "cell_type": "code",
   "execution_count": 36,
   "metadata": {},
   "outputs": [
    {
     "name": "stdout",
     "output_type": "stream",
     "text": [
      "Significance level  ⍺ = 0.05\n",
      "Sample size         n = 90\n",
      "k = 3; df = 2\n",
      "Chi-squared        χ² = 31.2000\n",
      "Critical value      g = 5.9915\n",
      "p-value             p = 0.00000017\n"
     ]
    }
   ],
   "source": [
    "# (d) Bereken de p-waarde\n",
    "alpha = 0.05               # Significance level\n",
    "n = sum(observed)          # Sample size\n",
    "k = len(observed)          # Number of categories\n",
    "dof = k - 1                # Degrees of freedom\n",
    "expected = expected_p * n  # Expected absolute frequencies in the sample\n",
    "g = stats.chi2.isf(alpha, df=dof)  # Critical value\n",
    "\n",
    "# Goodness-of-fit-test in Python:\n",
    "chi2, p = stats.chisquare(f_obs=observed, f_exp=expected)\n",
    "\n",
    "print(\"Significance level  ⍺ = %.2f\" % alpha)\n",
    "print(\"Sample size         n = %d\" % n)\n",
    "print(\"k = %d; df = %d\" % (k, dof))\n",
    "print(\"Chi-squared        χ² = %.4f\" % chi2)\n",
    "print(\"Critical value      g = %.4f\" % g)\n",
    "print(\"p-value             p = %.8f\" % p)"
   ]
  },
  {
   "cell_type": "code",
   "execution_count": 37,
   "metadata": {},
   "outputs": [
    {
     "name": "stdout",
     "output_type": "stream",
     "text": [
      "p-waarde is 1.6788275299956632e-07 is << 0.05 => er is voldoende aanwijzing om de H0 hypothese te verwerpen\n",
      "chi^2 is 31.2 is >> 5.991464547107983 => er is voldoende aanwijzing om de H0 hypothese te verwerpen\n"
     ]
    }
   ],
   "source": [
    "# (e) Welke conclusie trek je?\n",
    "print(f\"p-waarde is {p} is << 0.05 => er is voldoende aanwijzing om de H0 hypothese te verwerpen\")\n",
    "print(f\"chi^2 is {chi2} is >> {g} => er is voldoende aanwijzing om de H0 hypothese te verwerpen\")"
   ]
  },
  {
   "cell_type": "code",
   "execution_count": null,
   "metadata": {},
   "outputs": [],
   "source": [
    "# (f) Formuleer een antwoord op de onderzoeksvraag.\n",
    "# De klanten hadden zeker niet evenveel voorkeur voor elk van de 3 producten. Er was geen significante voorkeur was voor product C noch voor product b."
   ]
  },
  {
   "cell_type": "markdown",
   "metadata": {},
   "source": [
    "## Vraag 7 (hoofdstuk 6)\n",
    "\n",
    "(a) De richtingscoefficient is 0.0232   \n",
    "\n",
    "(b) Het snijpunt met de y-as is: 427.433  \n",
    "\n",
    "(c) R = 0.0416  \n",
    "\n",
    "(d) Teken is positief -> stijgend verband  \n",
    "Grootte van R < 0.3 => zeer zwak verband (zie tabel demo regressie)  \n",
    "\n",
    "(e) R^2 = 0.0017  \n",
    "\n",
    "(f) Grootte van R^2 ~ 0 -> zeer zwak verband  \n",
    "verklaring van de variantie\n"
   ]
  },
  {
   "cell_type": "code",
   "execution_count": 39,
   "metadata": {},
   "outputs": [
    {
     "data": {
      "text/html": [
       "<div>\n",
       "<style scoped>\n",
       "    .dataframe tbody tr th:only-of-type {\n",
       "        vertical-align: middle;\n",
       "    }\n",
       "\n",
       "    .dataframe tbody tr th {\n",
       "        vertical-align: top;\n",
       "    }\n",
       "\n",
       "    .dataframe thead th {\n",
       "        text-align: right;\n",
       "    }\n",
       "</style>\n",
       "<table border=\"1\" class=\"dataframe\">\n",
       "  <thead>\n",
       "    <tr style=\"text-align: right;\">\n",
       "      <th></th>\n",
       "      <th>x</th>\n",
       "      <th>y</th>\n",
       "    </tr>\n",
       "  </thead>\n",
       "  <tbody>\n",
       "    <tr>\n",
       "      <th>0</th>\n",
       "      <td>394</td>\n",
       "      <td>461</td>\n",
       "    </tr>\n",
       "    <tr>\n",
       "      <th>1</th>\n",
       "      <td>369</td>\n",
       "      <td>427</td>\n",
       "    </tr>\n",
       "    <tr>\n",
       "      <th>2</th>\n",
       "      <td>393</td>\n",
       "      <td>468</td>\n",
       "    </tr>\n",
       "    <tr>\n",
       "      <th>3</th>\n",
       "      <td>442</td>\n",
       "      <td>426</td>\n",
       "    </tr>\n",
       "    <tr>\n",
       "      <th>4</th>\n",
       "      <td>371</td>\n",
       "      <td>418</td>\n",
       "    </tr>\n",
       "  </tbody>\n",
       "</table>\n",
       "</div>"
      ],
      "text/plain": [
       "     x    y\n",
       "0  394  461\n",
       "1  369  427\n",
       "2  393  468\n",
       "3  442  426\n",
       "4  371  418"
      ]
     },
     "execution_count": 39,
     "metadata": {},
     "output_type": "execute_result"
    }
   ],
   "source": [
    "df = pd.DataFrame(data={\n",
    "'x': [\n",
    "394, 369, 393, 442, 371, 416, 477, 406, 422, 459,\n",
    "410, 433, 365, 454, 373, 400, 354, 422, 399, 365,\n",
    "367, 428, 423, 336, 400, 425, 429, 413, 395, 474,\n",
    "405, 410, 383, 359, 429, 372, 331, 476, 395, 339,\n",
    "417, 347, 414, 444, 390, 389, 467, 386, 371, 367,\n",
    "378, 447, 432, 382, 339, 341, 401, 430, 386, 413,\n",
    "435, 414, 433, 435, 362, 356, 386, 322, 455, 384,\n",
    "321, 416, 390, 411, 397, 483, 405, 367, 367, 406,\n",
    "394, 424, 389, 333, 442, 422, 381, 450, 390, 392,\n",
    "368, 381, 406, 337, 419, 397, 427, 368, 501, 435],\n",
    "'y': [\n",
    "461, 427, 468, 426, 418, 463, 441, 461, 436, 439,\n",
    "444, 425, 395, 426, 425, 443, 420, 442, 471, 455,\n",
    "432, 419, 438, 411, 468, 439, 424, 462, 405, 462,\n",
    "407, 435, 422, 450, 436, 450, 440, 418, 426, 423,\n",
    "426, 422, 414, 408, 442, 434, 454, 441, 406, 396,\n",
    "497, 394, 435, 460, 461, 451, 422, 432, 438, 449,\n",
    "410, 426, 435, 460, 452, 475, 426, 437, 469, 444,\n",
    "444, 439, 446, 461, 448, 474, 432, 412, 449, 430,\n",
    "433, 423, 449, 429, 386, 480, 422, 464, 397, 407,\n",
    "409, 455, 461, 431, 420, 445, 424, 453, 432, 449]\n",
    "})\n",
    "df.head()"
   ]
  },
  {
   "cell_type": "code",
   "execution_count": 41,
   "metadata": {},
   "outputs": [
    {
     "data": {
      "text/plain": [
       "<AxesSubplot:xlabel='x', ylabel='y'>"
      ]
     },
     "execution_count": 41,
     "metadata": {},
     "output_type": "execute_result"
    },
    {
     "data": {
      "image/png": "[encoded data removed]",
      "text/plain": [
       "<Figure size 432x288 with 1 Axes>"
      ]
     },
     "metadata": {
      "needs_background": "light"
     },
     "output_type": "display_data"
    }
   ],
   "source": [
    "# Plot\n",
    "sns.regplot(x = df.x, y = df.y)\n",
    "# Geen sterk verband tussen x en y want de puntjes staan overal -> cor R is dichtbij 0"
   ]
  },
  {
   "cell_type": "code",
   "execution_count": 42,
   "metadata": {},
   "outputs": [
    {
     "name": "stdout",
     "output_type": "stream",
     "text": [
      "Regression line: ŷ = 427.43 + 0.02 x\n"
     ]
    }
   ],
   "source": [
    "from sklearn.linear_model import LinearRegression\n",
    "\n",
    "x = df.x.values.reshape(-1,1)\n",
    "y = df.y\n",
    "\n",
    "weight_model = LinearRegression().fit(x, y)\n",
    "\n",
    "print(f\"Regression line: ŷ = {weight_model.intercept_:.2f} + {weight_model.coef_[0]:.2f} x\")"
   ]
  },
  {
   "cell_type": "code",
   "execution_count": 43,
   "metadata": {},
   "outputs": [
    {
     "name": "stdout",
     "output_type": "stream",
     "text": [
      "De richtingscoefficient is 0.023210537909158984\n"
     ]
    }
   ],
   "source": [
    "# (a) Bereken de richtingscoefficient van de regressierechte\n",
    "print(f\"De richtingscoefficient is {weight_model.coef_[0]}\")"
   ]
  },
  {
   "cell_type": "code",
   "execution_count": 45,
   "metadata": {},
   "outputs": [
    {
     "name": "stdout",
     "output_type": "stream",
     "text": [
      "Het snijpunt met de y-as is: 427.4330190404864\n"
     ]
    }
   ],
   "source": [
    "# (b) Bereken het snijpunt van de regressierechte met de y-as\n",
    "print(f\"Het snijpunt met de y-as is: {weight_model.intercept_}\")"
   ]
  },
  {
   "cell_type": "code",
   "execution_count": 50,
   "metadata": {},
   "outputs": [
    {
     "name": "stdout",
     "output_type": "stream",
     "text": [
      "cov = 33.26111111111113\n"
     ]
    }
   ],
   "source": [
    "# Bereken de covariantie (extra)\n",
    "cov = np.cov(df.x, df.y, ddof=1)[0][1]\n",
    "print(f\"cov = {cov}\")\n",
    "\n",
    "# Interpretatie van de covariantie\n",
    "# cov > 0 -> stijgend verband, enige dat je kan zien met covariantie\n",
    "# als cov < 0 -> dalend verband\n",
    " "
   ]
  },
  {
   "cell_type": "code",
   "execution_count": 46,
   "metadata": {},
   "outputs": [
    {
     "name": "stdout",
     "output_type": "stream",
     "text": [
      "R = 0.04160588959380872\n"
     ]
    }
   ],
   "source": [
    "# (c) Bereken de correlatiecoefficient ook wel R (symbool + waarde)\n",
    "cor = np.corrcoef(df.x, df.y)[0][1]\n",
    "print(f\"R = {cor}\")"
   ]
  },
  {
   "cell_type": "code",
   "execution_count": null,
   "metadata": {},
   "outputs": [],
   "source": [
    "# (d) Formuleer een interpretatie voor de waarde van de correlatiecoefficient\n",
    "# Teken is positief -> stijgend verband\n",
    "# grootte van R ~ (is ongeveer) 0 => zeer zwak verband (zie tabel demo regressie)"
   ]
  },
  {
   "cell_type": "code",
   "execution_count": 47,
   "metadata": {},
   "outputs": [
    {
     "name": "stdout",
     "output_type": "stream",
     "text": [
      "R^2 = 0.0017310500488922004\n"
     ]
    }
   ],
   "source": [
    "# (e) Bereken de determinatiecoefficient ook wel R^2 (symbool + waarde)\n",
    "print(f\"R^2 = {cor**2}\")"
   ]
  },
  {
   "cell_type": "code",
   "execution_count": null,
   "metadata": {},
   "outputs": [],
   "source": [
    "# (f) Geef een interpretatie voor de waarde van de determinatiecoefficient\n",
    "# Grootte van R^2 ~ 0 -> zeer zwak verband\n",
    "# verklaring van de variantie"
   ]
  },
  {
   "cell_type": "markdown",
   "metadata": {},
   "source": [
    "## Vraag 8 (hoofdstuk 7)\n",
    "\n",
    "(a) paars -> Eenvoudig voortschrijdend gemiddelde met periode 12  \n",
    "cyaan -> Enkelvoudige exponentiele afvlakking met α = 0, 1  \n",
    "rood -> Enkelvoudige exponentiele afvlakking met α = 0, 9  \n",
    "\n",
    "(b) trend (opwaarts) + geen seasonal component -> Double Exponential Smoothing  "
   ]
  },
  {
   "cell_type": "code",
   "execution_count": null,
   "metadata": {},
   "outputs": [],
   "source": [
    "# (a) Geef voor elk aan over welke vorm het precies gaat. Kies uit de daaronder gegeven mogelijkheden.\n",
    "# A, paars -> Eenvoudig voortschrijdend gemiddelde met periode 12\n",
    "#    cyaan -> Enkelvoudige exponenti¨ele afvlakking met α = 0, 1\n",
    "#    rood -> Enkelvoudige exponenti¨ele afvlakking met α = 0, 9"
   ]
  },
  {
   "cell_type": "code",
   "execution_count": null,
   "metadata": {},
   "outputs": [],
   "source": [
    "# (b) Als je voor deze tijdreeks een model zou moeten opzetten gebaseerd op exponentiele afvlakking, welke zou je dan gebruiken?\n",
    "# trend (opwaarts) + geen seasonal component -> Double Exponential Smoothing"
   ]
  }
 ],
 "metadata": {
  "kernelspec": {
   "display_name": "Python 3.10.4 64-bit",
   "language": "python",
   "name": "python3"
  },
  "language_info": {
   "codemirror_mode": {
    "name": "ipython",
    "version": 3
   },
   "file_extension": ".py",
   "mimetype": "text/x-python",
   "name": "python",
   "nbconvert_exporter": "python",
   "pygments_lexer": "ipython3",
   "version": "3.10.4"
  },
  "orig_nbformat": 4,
  "vscode": {
   "interpreter": {
    "hash": "cdf3871b41e34b4d9831f9ecf2ca3d123ed62407e4a1eb1c5f29339755c7c433"
   }
  }
 },
 "nbformat": 4,
 "nbformat_minor": 2
}
