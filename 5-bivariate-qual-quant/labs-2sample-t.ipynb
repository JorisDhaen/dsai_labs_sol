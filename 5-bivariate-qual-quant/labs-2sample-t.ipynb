{
 "cells": [
  {
   "cell_type": "markdown",
   "metadata": {},
   "source": [
    "# Module 5. Labs two-sample t-test"
   ]
  },
  {
   "cell_type": "code",
   "execution_count": 5,
   "metadata": {},
   "outputs": [],
   "source": [
    "# Package imports\n",
    "import numpy as np                                  # \"Scientific computing\"\n",
    "import scipy.stats as stats                         # Statistical tests\n",
    "\n",
    "import pandas as pd                                 # Dataframe\n",
    "import matplotlib.pyplot as plt                     # Basic visualisation\n",
    "from statsmodels.graphics.mosaicplot import mosaic  # Mosaic plot\n",
    "import seaborn as sns                               # Advanced dataviz"
   ]
  },
  {
   "cell_type": "markdown",
   "metadata": {},
   "source": [
    "## Android Persistence libraries performance comparison\n",
    "\n",
    "We analyzed the results of performance measurements for Android persistence libraries (Akin, 2016). Experiments were performed for different combinations of *DataSize* (Small, Medium, Large) and *PersistenceType* (GreenDAO, Realm, SharedPreferences, SQLite). For each data size, we were able to determine which persistence type yielded the best results.\n",
    "\n",
    "Now we will verify if the best persistence type at first glance is also *significantly* better than the competition.\n",
    "\n",
    "Specifically: Using a two-sample test for each data size, verify that the mean of the best persistence type is significantly lower than the mean of the second best and the worst scoring type.\n",
    "\n",
    "Can we maintain the conclusion that for a given data size, one persistence type is best, i.e. is significantly better than any other persistence type?"
   ]
  },
  {
   "cell_type": "code",
   "execution_count": 6,
   "metadata": {},
   "outputs": [
    {
     "data": {
      "text/html": [
       "<div>\n",
       "<style scoped>\n",
       "    .dataframe tbody tr th:only-of-type {\n",
       "        vertical-align: middle;\n",
       "    }\n",
       "\n",
       "    .dataframe tbody tr th {\n",
       "        vertical-align: top;\n",
       "    }\n",
       "\n",
       "    .dataframe thead th {\n",
       "        text-align: right;\n",
       "    }\n",
       "</style>\n",
       "<table border=\"1\" class=\"dataframe\">\n",
       "  <thead>\n",
       "    <tr style=\"text-align: right;\">\n",
       "      <th></th>\n",
       "      <th>Time</th>\n",
       "      <th>PersistenceType</th>\n",
       "      <th>DataSize</th>\n",
       "    </tr>\n",
       "  </thead>\n",
       "  <tbody>\n",
       "    <tr>\n",
       "      <th>0</th>\n",
       "      <td>1.81</td>\n",
       "      <td>Sharedpreferences</td>\n",
       "      <td>Small</td>\n",
       "    </tr>\n",
       "    <tr>\n",
       "      <th>1</th>\n",
       "      <td>1.35</td>\n",
       "      <td>Sharedpreferences</td>\n",
       "      <td>Small</td>\n",
       "    </tr>\n",
       "    <tr>\n",
       "      <th>2</th>\n",
       "      <td>1.84</td>\n",
       "      <td>Sharedpreferences</td>\n",
       "      <td>Small</td>\n",
       "    </tr>\n",
       "    <tr>\n",
       "      <th>3</th>\n",
       "      <td>1.54</td>\n",
       "      <td>Sharedpreferences</td>\n",
       "      <td>Small</td>\n",
       "    </tr>\n",
       "    <tr>\n",
       "      <th>4</th>\n",
       "      <td>1.81</td>\n",
       "      <td>Sharedpreferences</td>\n",
       "      <td>Small</td>\n",
       "    </tr>\n",
       "  </tbody>\n",
       "</table>\n",
       "</div>"
      ],
      "text/plain": [
       "   Time    PersistenceType DataSize\n",
       "0  1.81  Sharedpreferences    Small\n",
       "1  1.35  Sharedpreferences    Small\n",
       "2  1.84  Sharedpreferences    Small\n",
       "3  1.54  Sharedpreferences    Small\n",
       "4  1.81  Sharedpreferences    Small"
      ]
     },
     "execution_count": 6,
     "metadata": {},
     "output_type": "execute_result"
    }
   ],
   "source": [
    "# Read dataset\n",
    "android = pd.read_csv('https://raw.githubusercontent.com/HoGentTIN/dsai-en-labs/main/data/android_persistence_cpu.csv', delimiter=\";\")\n",
    "android.head()"
   ]
  },
  {
   "cell_type": "code",
   "execution_count": 7,
   "metadata": {},
   "outputs": [
    {
     "data": {
      "text/plain": [
       "DataSize  PersistenceType  \n",
       "Large     GreenDAO             12.110333\n",
       "          Realm                10.651667\n",
       "          SQLLite              11.515000\n",
       "Medium    GreenDAO              7.454000\n",
       "          Realm                 5.818000\n",
       "          SQLLite               7.794000\n",
       "Small     GreenDAO              1.893667\n",
       "          Realm                 1.599000\n",
       "          SQLLite               1.799000\n",
       "          Sharedpreferences     1.673667\n",
       "Name: Time, dtype: float64"
      ]
     },
     "execution_count": 7,
     "metadata": {},
     "output_type": "execute_result"
    }
   ],
   "source": [
    "android.groupby(['DataSize', 'PersistenceType'])['Time'].mean()"
   ]
  },
  {
   "cell_type": "markdown",
   "metadata": {},
   "source": [
    "The population mean for instances in the Realm group is notated $\\mu_1$, for those in the Sharedpreferences group $\\mu_2$.\n",
    "\n",
    "The hypotheses are:\n",
    "\n",
    "- $H_0$: $\\mu_1 - \\mu_2 = 0$ (reaction time is the same in both groups)\n",
    "- $H_1$: $\\mu_1 - \\mu_2 < 0$ (reaction time is significantly higher in the Sharedpreferences group compared to the Realm group)"
   ]
  },
  {
   "cell_type": "code",
   "execution_count": 8,
   "metadata": {},
   "outputs": [],
   "source": [
    "realm = np.array(android[(android.DataSize == 'Small') & (android.PersistenceType == 'Realm')]['Time'])\n",
    "# print(realm)\n",
    "\n",
    "sharedpreferences = np.array(android[(android.DataSize == 'Small') & (android.PersistenceType == 'Sharedpreferences')]['Time'])\n",
    "# print(sharedpreferences)"
   ]
  },
  {
   "cell_type": "code",
   "execution_count": 9,
   "metadata": {},
   "outputs": [
    {
     "data": {
      "text/plain": [
       "Ttest_indResult(statistic=-0.9624716662718158, pvalue=0.16992370571901427)"
      ]
     },
     "execution_count": 9,
     "metadata": {},
     "output_type": "execute_result"
    }
   ],
   "source": [
    "stats.ttest_ind(a=realm, b=sharedpreferences, alternative='less', equal_var=False)"
   ]
  },
  {
   "cell_type": "markdown",
   "metadata": {},
   "source": [
    "Besluit  \n",
    "pvalue = 0.169 -> $H_0$ wordt niet verworpen  \n",
    "Er is niet voldoende aanwijzing om $H_0$ te verwerpen   \n",
    "Er is geen significant verschil in de time van Realm en Sharedpreferences  "
   ]
  },
  {
   "cell_type": "markdown",
   "metadata": {},
   "source": [
    "### Answers\n",
    "\n",
    "The table below provides an overview of the best and second best persistence type for each data size (based on the sample mean).\n",
    "\n",
    "| Data Size | Best  | 2nd Best          | p-value   |\n",
    "| :-------- | :---- | :---------------- | :-------- |\n",
    "| Small     | Realm | SharedPreferences | 0.1699    |\n",
    "| Medium    | Realm | GreenDAO          | 0.0002506 |\n",
    "| Large     | Realm | SQLite            | 0.0017    |\n",
    "\n",
    "The conclusion of Akin (2016), which states that Realm is the most efficient persistence type, still holds, but for the small data sets the difference is not significant.\n",
    "\n",
    "Note that we have not explicitly selected a specific significance level in advance. However, for $\\alpha$ = 0.1, 0.05 or even 0.01, the same conclusion can be drawn."
   ]
  },
  {
   "cell_type": "markdown",
   "metadata": {},
   "source": [
    "##  Comparing test results between groups\n",
    "\n",
    "A large number of students participated in a test that was organized in several successive sessions. Because creating a separate test for each session was practically unfeasible, the same questions were used in each session. Consequently, there is a danger that students could pass on information about the test to the groups that still had to come after. Later groups then have an advantage over the first. However, this also evident from the test scores?\n",
    "\n",
    "The file `test-results.csv` contains all results of the test. The score is a floating point number with maximum 40. If the score field is empty, this indicates a student that was absent. Each session is identified by a letter, in the order of the consecutive sessions.\n",
    "\n",
    "- Day 1: sessions A, B\n",
    "- Day 2: sessions C, D, E\n",
    "- Day 3: sessions F, G, H\n",
    "\n",
    "Sessions A and B were conducted on a different campus, so it could be assumed that there is little to no communication with students from other sessions.\n",
    "\n",
    "If information was passed on successfully, we expect the scores of later groups to be significantly better than the first.\n",
    "\n",
    "**Note** that the reverse reasoning does not necessarily hold: if it turns out that the result of later sessions is indeed significantly better, this does not necessarily mean that the (only) cause is passing on of information. There may also be other causes (e.g. “weaker” class groups happen to be scheduled earlier).\n",
    "\n",
    "1. Explore the data. Calculate the appropriate measures for central tendency and dispersion for the full dataset and for each session individually.\n",
    "2. Plot a bar graph of the average score per session with error bars denoting one standard deviation.\n",
    "3. Make a box plot of the scores divided per group. Compare the sessions listed below. Do you think there is a significant difference between the results? Can we suspect that information has been passed on?\n",
    "    - A and B\n",
    "    - C, D and E\n",
    "    - F, G and H\n",
    "    - C and H\n",
    "    - A and H\n",
    "4. Use an appropriate statistical test to determine whether the differences between the groups listed above are also *significant*. Can we conclude that the later groups score better or not?"
   ]
  },
  {
   "cell_type": "code",
   "execution_count": 10,
   "metadata": {},
   "outputs": [
    {
     "data": {
      "text/html": [
       "<div>\n",
       "<style scoped>\n",
       "    .dataframe tbody tr th:only-of-type {\n",
       "        vertical-align: middle;\n",
       "    }\n",
       "\n",
       "    .dataframe tbody tr th {\n",
       "        vertical-align: top;\n",
       "    }\n",
       "\n",
       "    .dataframe thead th {\n",
       "        text-align: right;\n",
       "    }\n",
       "</style>\n",
       "<table border=\"1\" class=\"dataframe\">\n",
       "  <thead>\n",
       "    <tr style=\"text-align: right;\">\n",
       "      <th></th>\n",
       "      <th>Session</th>\n",
       "      <th>Score</th>\n",
       "    </tr>\n",
       "  </thead>\n",
       "  <tbody>\n",
       "    <tr>\n",
       "      <th>0</th>\n",
       "      <td>A</td>\n",
       "      <td>12.5</td>\n",
       "    </tr>\n",
       "    <tr>\n",
       "      <th>1</th>\n",
       "      <td>A</td>\n",
       "      <td>7.5</td>\n",
       "    </tr>\n",
       "    <tr>\n",
       "      <th>2</th>\n",
       "      <td>A</td>\n",
       "      <td>NaN</td>\n",
       "    </tr>\n",
       "    <tr>\n",
       "      <th>3</th>\n",
       "      <td>A</td>\n",
       "      <td>21.0</td>\n",
       "    </tr>\n",
       "    <tr>\n",
       "      <th>4</th>\n",
       "      <td>A</td>\n",
       "      <td>10.0</td>\n",
       "    </tr>\n",
       "  </tbody>\n",
       "</table>\n",
       "</div>"
      ],
      "text/plain": [
       "  Session  Score\n",
       "0       A   12.5\n",
       "1       A    7.5\n",
       "2       A    NaN\n",
       "3       A   21.0\n",
       "4       A   10.0"
      ]
     },
     "execution_count": 10,
     "metadata": {},
     "output_type": "execute_result"
    }
   ],
   "source": [
    "# Read dataset\n",
    "scores = pd.read_csv('https://raw.githubusercontent.com/HoGentTIN/dsai-en-labs/main/data/test-results.csv')\n",
    "scores.head()"
   ]
  },
  {
   "cell_type": "code",
   "execution_count": 11,
   "metadata": {},
   "outputs": [
    {
     "data": {
      "text/html": [
       "<div>\n",
       "<style scoped>\n",
       "    .dataframe tbody tr th:only-of-type {\n",
       "        vertical-align: middle;\n",
       "    }\n",
       "\n",
       "    .dataframe tbody tr th {\n",
       "        vertical-align: top;\n",
       "    }\n",
       "\n",
       "    .dataframe thead th {\n",
       "        text-align: right;\n",
       "    }\n",
       "</style>\n",
       "<table border=\"1\" class=\"dataframe\">\n",
       "  <thead>\n",
       "    <tr style=\"text-align: right;\">\n",
       "      <th></th>\n",
       "      <th>Session</th>\n",
       "      <th>Score</th>\n",
       "    </tr>\n",
       "  </thead>\n",
       "  <tbody>\n",
       "    <tr>\n",
       "      <th>0</th>\n",
       "      <td>A</td>\n",
       "      <td>12.5</td>\n",
       "    </tr>\n",
       "    <tr>\n",
       "      <th>1</th>\n",
       "      <td>A</td>\n",
       "      <td>7.5</td>\n",
       "    </tr>\n",
       "    <tr>\n",
       "      <th>3</th>\n",
       "      <td>A</td>\n",
       "      <td>21.0</td>\n",
       "    </tr>\n",
       "    <tr>\n",
       "      <th>4</th>\n",
       "      <td>A</td>\n",
       "      <td>10.0</td>\n",
       "    </tr>\n",
       "    <tr>\n",
       "      <th>5</th>\n",
       "      <td>A</td>\n",
       "      <td>20.5</td>\n",
       "    </tr>\n",
       "  </tbody>\n",
       "</table>\n",
       "</div>"
      ],
      "text/plain": [
       "  Session  Score\n",
       "0       A   12.5\n",
       "1       A    7.5\n",
       "3       A   21.0\n",
       "4       A   10.0\n",
       "5       A   20.5"
      ]
     },
     "execution_count": 11,
     "metadata": {},
     "output_type": "execute_result"
    }
   ],
   "source": [
    "scores = scores.dropna()\n",
    "scores.head()"
   ]
  },
  {
   "cell_type": "code",
   "execution_count": 12,
   "metadata": {},
   "outputs": [
    {
     "data": {
      "text/html": [
       "<div>\n",
       "<style scoped>\n",
       "    .dataframe tbody tr th:only-of-type {\n",
       "        vertical-align: middle;\n",
       "    }\n",
       "\n",
       "    .dataframe tbody tr th {\n",
       "        vertical-align: top;\n",
       "    }\n",
       "\n",
       "    .dataframe thead th {\n",
       "        text-align: right;\n",
       "    }\n",
       "</style>\n",
       "<table border=\"1\" class=\"dataframe\">\n",
       "  <thead>\n",
       "    <tr style=\"text-align: right;\">\n",
       "      <th></th>\n",
       "      <th>Score</th>\n",
       "    </tr>\n",
       "  </thead>\n",
       "  <tbody>\n",
       "    <tr>\n",
       "      <th>count</th>\n",
       "      <td>195.000000</td>\n",
       "    </tr>\n",
       "    <tr>\n",
       "      <th>mean</th>\n",
       "      <td>18.788974</td>\n",
       "    </tr>\n",
       "    <tr>\n",
       "      <th>std</th>\n",
       "      <td>7.014017</td>\n",
       "    </tr>\n",
       "    <tr>\n",
       "      <th>min</th>\n",
       "      <td>0.000000</td>\n",
       "    </tr>\n",
       "    <tr>\n",
       "      <th>25%</th>\n",
       "      <td>13.250000</td>\n",
       "    </tr>\n",
       "    <tr>\n",
       "      <th>50%</th>\n",
       "      <td>19.000000</td>\n",
       "    </tr>\n",
       "    <tr>\n",
       "      <th>75%</th>\n",
       "      <td>24.500000</td>\n",
       "    </tr>\n",
       "    <tr>\n",
       "      <th>max</th>\n",
       "      <td>34.500000</td>\n",
       "    </tr>\n",
       "  </tbody>\n",
       "</table>\n",
       "</div>"
      ],
      "text/plain": [
       "            Score\n",
       "count  195.000000\n",
       "mean    18.788974\n",
       "std      7.014017\n",
       "min      0.000000\n",
       "25%     13.250000\n",
       "50%     19.000000\n",
       "75%     24.500000\n",
       "max     34.500000"
      ]
     },
     "execution_count": 12,
     "metadata": {},
     "output_type": "execute_result"
    }
   ],
   "source": [
    "scores.describe()"
   ]
  },
  {
   "cell_type": "code",
   "execution_count": 13,
   "metadata": {},
   "outputs": [
    {
     "data": {
      "text/html": [
       "<div>\n",
       "<style scoped>\n",
       "    .dataframe tbody tr th:only-of-type {\n",
       "        vertical-align: middle;\n",
       "    }\n",
       "\n",
       "    .dataframe tbody tr th {\n",
       "        vertical-align: top;\n",
       "    }\n",
       "\n",
       "    .dataframe thead tr th {\n",
       "        text-align: left;\n",
       "    }\n",
       "\n",
       "    .dataframe thead tr:last-of-type th {\n",
       "        text-align: right;\n",
       "    }\n",
       "</style>\n",
       "<table border=\"1\" class=\"dataframe\">\n",
       "  <thead>\n",
       "    <tr>\n",
       "      <th></th>\n",
       "      <th colspan=\"8\" halign=\"left\">Score</th>\n",
       "    </tr>\n",
       "    <tr>\n",
       "      <th></th>\n",
       "      <th>count</th>\n",
       "      <th>mean</th>\n",
       "      <th>std</th>\n",
       "      <th>min</th>\n",
       "      <th>25%</th>\n",
       "      <th>50%</th>\n",
       "      <th>75%</th>\n",
       "      <th>max</th>\n",
       "    </tr>\n",
       "    <tr>\n",
       "      <th>Session</th>\n",
       "      <th></th>\n",
       "      <th></th>\n",
       "      <th></th>\n",
       "      <th></th>\n",
       "      <th></th>\n",
       "      <th></th>\n",
       "      <th></th>\n",
       "      <th></th>\n",
       "    </tr>\n",
       "  </thead>\n",
       "  <tbody>\n",
       "    <tr>\n",
       "      <th>A</th>\n",
       "      <td>17.0</td>\n",
       "      <td>13.117647</td>\n",
       "      <td>6.040306</td>\n",
       "      <td>4.0</td>\n",
       "      <td>8.000</td>\n",
       "      <td>12.500</td>\n",
       "      <td>17.000</td>\n",
       "      <td>26.50</td>\n",
       "    </tr>\n",
       "    <tr>\n",
       "      <th>B</th>\n",
       "      <td>21.0</td>\n",
       "      <td>17.214286</td>\n",
       "      <td>9.150917</td>\n",
       "      <td>1.0</td>\n",
       "      <td>10.000</td>\n",
       "      <td>14.500</td>\n",
       "      <td>26.500</td>\n",
       "      <td>31.50</td>\n",
       "    </tr>\n",
       "    <tr>\n",
       "      <th>C</th>\n",
       "      <td>25.0</td>\n",
       "      <td>18.800000</td>\n",
       "      <td>6.539941</td>\n",
       "      <td>10.0</td>\n",
       "      <td>13.000</td>\n",
       "      <td>18.500</td>\n",
       "      <td>22.000</td>\n",
       "      <td>34.50</td>\n",
       "    </tr>\n",
       "    <tr>\n",
       "      <th>D</th>\n",
       "      <td>26.0</td>\n",
       "      <td>22.451923</td>\n",
       "      <td>4.641670</td>\n",
       "      <td>13.0</td>\n",
       "      <td>19.125</td>\n",
       "      <td>22.125</td>\n",
       "      <td>25.750</td>\n",
       "      <td>30.50</td>\n",
       "    </tr>\n",
       "    <tr>\n",
       "      <th>E</th>\n",
       "      <td>22.0</td>\n",
       "      <td>18.852273</td>\n",
       "      <td>7.010052</td>\n",
       "      <td>0.0</td>\n",
       "      <td>16.375</td>\n",
       "      <td>19.250</td>\n",
       "      <td>21.375</td>\n",
       "      <td>30.75</td>\n",
       "    </tr>\n",
       "    <tr>\n",
       "      <th>F</th>\n",
       "      <td>27.0</td>\n",
       "      <td>17.814815</td>\n",
       "      <td>6.274028</td>\n",
       "      <td>6.5</td>\n",
       "      <td>12.875</td>\n",
       "      <td>17.500</td>\n",
       "      <td>22.000</td>\n",
       "      <td>32.00</td>\n",
       "    </tr>\n",
       "    <tr>\n",
       "      <th>G</th>\n",
       "      <td>29.0</td>\n",
       "      <td>18.736207</td>\n",
       "      <td>5.261126</td>\n",
       "      <td>10.0</td>\n",
       "      <td>16.500</td>\n",
       "      <td>18.750</td>\n",
       "      <td>23.000</td>\n",
       "      <td>27.75</td>\n",
       "    </tr>\n",
       "    <tr>\n",
       "      <th>H</th>\n",
       "      <td>28.0</td>\n",
       "      <td>20.946429</td>\n",
       "      <td>8.133537</td>\n",
       "      <td>3.0</td>\n",
       "      <td>15.750</td>\n",
       "      <td>22.000</td>\n",
       "      <td>26.625</td>\n",
       "      <td>34.50</td>\n",
       "    </tr>\n",
       "  </tbody>\n",
       "</table>\n",
       "</div>"
      ],
      "text/plain": [
       "        Score                                                          \n",
       "        count       mean       std   min     25%     50%     75%    max\n",
       "Session                                                                \n",
       "A        17.0  13.117647  6.040306   4.0   8.000  12.500  17.000  26.50\n",
       "B        21.0  17.214286  9.150917   1.0  10.000  14.500  26.500  31.50\n",
       "C        25.0  18.800000  6.539941  10.0  13.000  18.500  22.000  34.50\n",
       "D        26.0  22.451923  4.641670  13.0  19.125  22.125  25.750  30.50\n",
       "E        22.0  18.852273  7.010052   0.0  16.375  19.250  21.375  30.75\n",
       "F        27.0  17.814815  6.274028   6.5  12.875  17.500  22.000  32.00\n",
       "G        29.0  18.736207  5.261126  10.0  16.500  18.750  23.000  27.75\n",
       "H        28.0  20.946429  8.133537   3.0  15.750  22.000  26.625  34.50"
      ]
     },
     "execution_count": 13,
     "metadata": {},
     "output_type": "execute_result"
    }
   ],
   "source": [
    "scores.groupby('Session').describe()"
   ]
  },
  {
   "cell_type": "code",
   "execution_count": 14,
   "metadata": {},
   "outputs": [
    {
     "data": {
      "image/png": "[encoded data removed]",
      "text/plain": [
       "<Figure size 432x288 with 1 Axes>"
      ]
     },
     "metadata": {
      "needs_background": "light"
     },
     "output_type": "display_data"
    }
   ],
   "source": [
    "# Vraag 2\n",
    "sns.barplot(data=scores, x='Session', y='Score', ci='sd');"
   ]
  },
  {
   "cell_type": "code",
   "execution_count": 15,
   "metadata": {},
   "outputs": [
    {
     "data": {
      "image/png": "[encoded data removed]",
      "text/plain": [
       "<Figure size 432x288 with 1 Axes>"
      ]
     },
     "metadata": {
      "needs_background": "light"
     },
     "output_type": "display_data"
    }
   ],
   "source": [
    "# Vraag 3\n",
    "sns.boxplot(data=scores[(scores.Session == 'A') | (scores.Session == 'B')], x='Score', y='Session');"
   ]
  },
  {
   "cell_type": "code",
   "execution_count": null,
   "metadata": {},
   "outputs": [],
   "source": [
    "# Vraag 4"
   ]
  },
  {
   "cell_type": "markdown",
   "metadata": {},
   "source": [
    "A en B  \n",
    "The population mean for instances in the A group is notated $\\mu_1$, for those in the B group $\\mu_2$.\n",
    "\n",
    "The hypotheses are:\n",
    "\n",
    "- $H_0$: $\\mu_1 - \\mu_2 = 0$ (scores are the same in both groups)\n",
    "- $H_1$: $\\mu_1 - \\mu_2 < 0$ (score is significantly higher in the B group compared to the A group)"
   ]
  },
  {
   "cell_type": "code",
   "execution_count": 16,
   "metadata": {},
   "outputs": [
    {
     "name": "stdout",
     "output_type": "stream",
     "text": [
      "[12.5  7.5 21.  10.  20.5 14.   4.   7.   7.5  8.  13.5 26.5 18.  16.\n",
      " 10.5 17.   9.5]\n",
      "[21.5 10.  17.5 14.  28.  26.5  5.5 12.  31.5 14.5 11.5 27.  27.5 13.5\n",
      " 26.  27.5  1.   7.   6.  23.5 10. ]\n"
     ]
    }
   ],
   "source": [
    "ascores = np.array(scores[(scores.Session == 'A')]['Score'])\n",
    "print(ascores)\n",
    "\n",
    "bscores = np.array(scores[(scores.Session == 'B')]['Score'])\n",
    "print(bscores)"
   ]
  },
  {
   "cell_type": "code",
   "execution_count": 17,
   "metadata": {},
   "outputs": [
    {
     "data": {
      "text/plain": [
       "Ttest_indResult(statistic=-1.6541070146039145, pvalue=0.053557184014211265)"
      ]
     },
     "execution_count": 17,
     "metadata": {},
     "output_type": "execute_result"
    }
   ],
   "source": [
    "stats.ttest_ind(a=ascores, b=bscores, alternative='less', equal_var=False)"
   ]
  },
  {
   "cell_type": "markdown",
   "metadata": {},
   "source": [
    "### Answers\n",
    "\n",
    "The average score in each session was:\n",
    "\n",
    "| Session | Average score |\n",
    "| :-----: | :------------ |\n",
    "|    A    | 13.1          |\n",
    "|    B    | 17.2          |\n",
    "|    C    | 18.8          |\n",
    "|    D    | 22.5          |\n",
    "|    E    | 18.9          |\n",
    "|    F    | 17.8          |\n",
    "|    G    | 18.7          |\n",
    "|    H    | 20.9          |\n",
    "\n",
    "The table below shows the p-value of a one-sided t-test of two samples between the given sessions:\n",
    "\n",
    "| Alt. hypothesis                       | p-value   |\n",
    "| :------------------------------------ | :-------- |\n",
    "| $\\overline{x}_A - \\overline{x}_B < 0$ | 0.05356   |\n",
    "| $\\overline{x}_C - \\overline{x}_D < 0$ | 0.01343   |\n",
    "| $\\overline{x}_E - \\overline{x}_D < 0$ | 0.02356   |\n",
    "| $\\overline{x}_F - \\overline{x}_H < 0$ | 0.05767   |\n",
    "| $\\overline{x}_G - \\overline{x}_H < 0$ | 0.1156    |\n",
    "| $\\overline{x}_C - \\overline{x}_H < 0$ | 0.1463    |\n",
    "| $\\overline{x}_A - \\overline{x}_H < 0$ | 0.0003289 |\n",
    "\n",
    "Remarks:\n",
    "\n",
    "- The difference between **session A and B**, although it seems quite large, is insignificant for $\\alpha = 0.05$\n",
    "- **Sessions C, D and E**:\n",
    "  - Session D had the highest score. Sessions C and E had similar results, at least the average score was similar.\n",
    "  - Session D has a significantly higher score than either sessions C and E. However, session E came _after_ D, so the cause is definitely not the passing of information.\n",
    "- The differences between **sessions F, G and H** insignificant\n",
    "- **Sessions C and H** are respectively the first and the last session on the same campus. So, if there is an opportunity to pass on information about the test, there's definitely enough time between these two sessions. However, the difference is not significant!\n",
    "- The difference between **sessions A and H** are significant, but since they took place on different campuses, it is questionable that this difference is caused by passing on information."
   ]
  }
 ],
 "metadata": {
  "interpreter": {
   "hash": "cdf3871b41e34b4d9831f9ecf2ca3d123ed62407e4a1eb1c5f29339755c7c433"
  },
  "kernelspec": {
   "display_name": "Python 3.10.4 64-bit",
   "language": "python",
   "name": "python3"
  },
  "language_info": {
   "codemirror_mode": {
    "name": "ipython",
    "version": 3
   },
   "file_extension": ".py",
   "mimetype": "text/x-python",
   "name": "python",
   "nbconvert_exporter": "python",
   "pygments_lexer": "ipython3",
   "version": "3.10.4"
  },
  "orig_nbformat": 4
 },
 "nbformat": 4,
 "nbformat_minor": 2
}
