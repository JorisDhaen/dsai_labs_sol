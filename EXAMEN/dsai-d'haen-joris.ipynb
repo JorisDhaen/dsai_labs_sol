{
 "cells": [
  {
   "cell_type": "markdown",
   "metadata": {},
   "source": [
    "# Examen Data Science & AI\n",
    "\n",
    "- Student: Joris D'haen\n",
    "- Studentennummer: 969131jd\n",
    "- Datum: 31/05/2022\n",
    "- Klasgroep: 2D2\n"
   ]
  },
  {
   "cell_type": "markdown",
   "metadata": {},
   "source": [
    "## Instructies\n",
    "\n",
    "Bij een multiple-true-false vraag, geef je antwoorden als volgt (fictief voorbeeld):\n",
    "\n",
    "1. Waar\n",
    "2. Niet waar\n",
    "3. Niet waar\n",
    "4. Waar\n",
    "\n",
    "Ook bij vragen met verschillende deelvragen gebruik je een genummerde lijst (hieronder een fictief voorbeeld). Merk op dat je LaTeX-notatie mag gebruiken voor wiskundige uitrdukkingen.\n",
    "\n",
    "1. Een tweezijdige z-toets\n",
    "2. $\\overline{x} = 123.456$ (let op! getallen afronden tot 3 cijfers!)\n",
    "3. $g = 112.432$\n",
    "4. $p = 0.567$\n",
    "5. We kunnen de nulhypothese ... (enz.). Er is dus ... (enz.)\n",
    "\n",
    "**Verwijder vóór indienen a.u.b. alle niet gebruikte codeblokken, tekst tussen haakjes (Antwoord op vraag X) en deze instructies. Enkel jouw ingevulde antwoorden blijven over.**"
   ]
  },
  {
   "cell_type": "code",
   "execution_count": 1,
   "metadata": {},
   "outputs": [],
   "source": [
    "# Package imports for data science\n",
    "import numpy as np\n",
    "import pandas as pd\n",
    "import scipy.stats as stats\n",
    "import matplotlib.pyplot as plt\n",
    "import seaborn as sns\n",
    "from statsmodels.graphics.mosaicplot import mosaic"
   ]
  },
  {
   "cell_type": "markdown",
   "metadata": {},
   "source": [
    "## Vraag 1\n",
    "\n",
    "(a) Qualitatief  \n",
    "\n",
    "(b) Quantitatief  \n",
    "\n",
    "(c) Quantitatief  \n",
    "\n",
    "(d) Qualitatief  "
   ]
  },
  {
   "cell_type": "markdown",
   "metadata": {},
   "source": [
    "## Vraag 2\n",
    "\n",
    "(a) Geen aselecte steekproef, je kiest steeds uit een gesorteerde lijst.  \n",
    "\n",
    "(b) Systematic non-sampling error, want je kiest steeds uit een gesorteerde lijst. "
   ]
  },
  {
   "cell_type": "markdown",
   "metadata": {},
   "source": [
    "## Vraag 3\n",
    "\n",
    "(a) Onafhankelijk  \n",
    "\n",
    "(b) 130/200 -> 65/100 -> 65% kans   \n",
    "\n",
    "(c) 40/200 -> 20/100 -> 20% kans  \n",
    "\n",
    "(d) 30/200 -> 15/100 -> 15% kans  "
   ]
  },
  {
   "cell_type": "code",
   "execution_count": null,
   "metadata": {},
   "outputs": [],
   "source": [
    "# Eventuele Python-code voor deze vraag\n",
    "# aantalStudenten = 200\n",
    "# aantalPlaystation = 40\n",
    "# aantalXbox = 60\n",
    "# beide = 30\n",
    "# geen = 70\n",
    "\n",
    "# (b) 130/200 -> 65/100 -> 65%\n",
    "# (c) 40/200 -> 20/100 -> 20% kans\n",
    "# (d) 30/200 -> 15/100 -> 15% kans"
   ]
  },
  {
   "cell_type": "markdown",
   "metadata": {},
   "source": [
    "## Vraag 4\n",
    "\n",
    "(c) Benaderend normaal verdeeld.\n"
   ]
  },
  {
   "cell_type": "code",
   "execution_count": null,
   "metadata": {},
   "outputs": [],
   "source": [
    "# Eventuele Python-code voor deze vraag\n",
    "n = 100\n",
    "m = 41\n",
    "s = 9\n"
   ]
  },
  {
   "cell_type": "markdown",
   "metadata": {},
   "source": [
    "## Vraag 5\n",
    "\n",
    "(a) 4860.3987  \n",
    "\n",
    "(b) 5065.4585  "
   ]
  },
  {
   "cell_type": "code",
   "execution_count": 7,
   "metadata": {},
   "outputs": [],
   "source": [
    "# Python-code vraag 5\n",
    "sample = np.array([\n",
    "5475, 4824, 5105, 4838, 5391, 4293, 4667, 5214, 5294, 4611, 4961,\n",
    "4708, 4987, 4815, 4858, 4673, 5305, 4531, 4174, 4469, 4870, 5061,\n",
    "5516, 4794, 5099, 4884, 5686, 4875, 5167, 5539, 5637, 4918, 4218,\n",
    "5318, 5088, 5463, 4565, 5279, 4235, 5634, 5210, 5187, 5344, 5158,\n",
    "4739, 5274, 4641, 4335, 4022, 4571, 5732, 5018, 5081, 4410, 4824,\n",
    "4383, 4982, 4154, 4845, 5076, 5290, 5179, 5103, 5075, 4469, 5677,\n",
    "5010, 5540, 4383, 5654\n",
    "])\n",
    "\n"
   ]
  },
  {
   "cell_type": "code",
   "execution_count": 8,
   "metadata": {},
   "outputs": [
    {
     "name": "stdout",
     "output_type": "stream",
     "text": [
      "t-score: 1.99495\n",
      "Confidence interval: [4860.3987, 5065.4585]\n"
     ]
    }
   ],
   "source": [
    "# Step 1.\n",
    "m = sample.mean()        # Sample mean\n",
    "s = 430                  # Population standard deviation\n",
    "n = 70                   # Sample size\n",
    "alpha = .05              #  1 - alpha is the confidence level want 95% is gevraagd\n",
    "\n",
    "# Stap 2.\n",
    "t = stats.t.isf(alpha/2, df = n - 1)\n",
    "print(\"t-score: %.5f\" % t)\n",
    "\n",
    "# Stap 3.\n",
    "lo = m - t * s / np.sqrt(n)\n",
    "hi = m + t * s / np.sqrt(n)\n",
    "print(\"Confidence interval: [%.4f, %.4f]\" % (lo, hi))"
   ]
  },
  {
   "cell_type": "markdown",
   "metadata": {},
   "source": [
    "## Vraag 6\n",
    "\n",
    "(a) Two sample t test for paired samples   \n",
    "\n",
    "(b) H0 = de metingen\n",
    "\n",
    "(c)\n",
    "\n",
    "(d)\n",
    "\n",
    "(e)\n",
    "\n",
    "(f)"
   ]
  },
  {
   "cell_type": "code",
   "execution_count": 12,
   "metadata": {},
   "outputs": [
    {
     "data": {
      "text/html": [
       "<div>\n",
       "<style scoped>\n",
       "    .dataframe tbody tr th:only-of-type {\n",
       "        vertical-align: middle;\n",
       "    }\n",
       "\n",
       "    .dataframe tbody tr th {\n",
       "        vertical-align: top;\n",
       "    }\n",
       "\n",
       "    .dataframe thead th {\n",
       "        text-align: right;\n",
       "    }\n",
       "</style>\n",
       "<table border=\"1\" class=\"dataframe\">\n",
       "  <thead>\n",
       "    <tr style=\"text-align: right;\">\n",
       "      <th></th>\n",
       "      <th>Active</th>\n",
       "      <th>Score</th>\n",
       "    </tr>\n",
       "  </thead>\n",
       "  <tbody>\n",
       "    <tr>\n",
       "      <th>0</th>\n",
       "      <td>Yes</td>\n",
       "      <td>29</td>\n",
       "    </tr>\n",
       "    <tr>\n",
       "      <th>1</th>\n",
       "      <td>No</td>\n",
       "      <td>55</td>\n",
       "    </tr>\n",
       "    <tr>\n",
       "      <th>2</th>\n",
       "      <td>No</td>\n",
       "      <td>43</td>\n",
       "    </tr>\n",
       "    <tr>\n",
       "      <th>3</th>\n",
       "      <td>No</td>\n",
       "      <td>52</td>\n",
       "    </tr>\n",
       "    <tr>\n",
       "      <th>4</th>\n",
       "      <td>No</td>\n",
       "      <td>38</td>\n",
       "    </tr>\n",
       "  </tbody>\n",
       "</table>\n",
       "</div>"
      ],
      "text/plain": [
       "  Active  Score\n",
       "0    Yes     29\n",
       "1     No     55\n",
       "2     No     43\n",
       "3     No     52\n",
       "4     No     38"
      ]
     },
     "execution_count": 12,
     "metadata": {},
     "output_type": "execute_result"
    }
   ],
   "source": [
    "# Python code vraag 6\n",
    "my_sample = pd.DataFrame(data={\n",
    "'Active':\n",
    "[\"Yes\", \"No\", \"No\", \"No\", \"No\", \"No\", \"No\", \"Yes\", \"No\", \"Yes\", \"Yes\",\n",
    "\"Yes\", \"Yes\", \"No\", \"Yes\", \"Yes\", \"Yes\", \"No\", \"Yes\", \"Yes\",\n",
    "\"No\", \"No\", \"No\", \"Yes\", \"Yes\", \"No\", \"No\", \"Yes\", \"Yes\",\n",
    "\"Yes\", \"No\", \"Yes\", \"No\", \"Yes\", \"Yes\", \"Yes\", \"Yes\", \"Yes\",\n",
    "\"No\", \"Yes\", \"Yes\", \"Yes\", \"Yes\", \"No\", \"No\", \"No\", \"Yes\",\n",
    "\"No\", \"Yes\", \"No\"],\n",
    "'Score':\n",
    "[29, 55, 43, 52, 38, 44, 42, 29, 41, 33, 33, 36, 34, 44, 41, 33, 32,\n",
    "45, 33, 26, 43, 38, 47, 32, 27, 45, 39, 27, 32, 35, 46, 38, 40,\n",
    "25, 23, 36, 37, 33, 43, 34, 30, 32, 29, 42, 44, 46, 29, 44, 21,\n",
    "39]\n",
    "})\n",
    "my_sample.head()"
   ]
  },
  {
   "cell_type": "code",
   "execution_count": 14,
   "metadata": {},
   "outputs": [
    {
     "data": {
      "text/html": [
       "<div>\n",
       "<style scoped>\n",
       "    .dataframe tbody tr th:only-of-type {\n",
       "        vertical-align: middle;\n",
       "    }\n",
       "\n",
       "    .dataframe tbody tr th {\n",
       "        vertical-align: top;\n",
       "    }\n",
       "\n",
       "    .dataframe thead tr th {\n",
       "        text-align: left;\n",
       "    }\n",
       "\n",
       "    .dataframe thead tr:last-of-type th {\n",
       "        text-align: right;\n",
       "    }\n",
       "</style>\n",
       "<table border=\"1\" class=\"dataframe\">\n",
       "  <thead>\n",
       "    <tr>\n",
       "      <th></th>\n",
       "      <th colspan=\"8\" halign=\"left\">Score</th>\n",
       "    </tr>\n",
       "    <tr>\n",
       "      <th></th>\n",
       "      <th>count</th>\n",
       "      <th>mean</th>\n",
       "      <th>std</th>\n",
       "      <th>min</th>\n",
       "      <th>25%</th>\n",
       "      <th>50%</th>\n",
       "      <th>75%</th>\n",
       "      <th>max</th>\n",
       "    </tr>\n",
       "    <tr>\n",
       "      <th>Active</th>\n",
       "      <th></th>\n",
       "      <th></th>\n",
       "      <th></th>\n",
       "      <th></th>\n",
       "      <th></th>\n",
       "      <th></th>\n",
       "      <th></th>\n",
       "      <th></th>\n",
       "    </tr>\n",
       "  </thead>\n",
       "  <tbody>\n",
       "    <tr>\n",
       "      <th>No</th>\n",
       "      <td>22.0</td>\n",
       "      <td>43.636364</td>\n",
       "      <td>4.135162</td>\n",
       "      <td>38.0</td>\n",
       "      <td>41.25</td>\n",
       "      <td>43.5</td>\n",
       "      <td>45.0</td>\n",
       "      <td>55.0</td>\n",
       "    </tr>\n",
       "    <tr>\n",
       "      <th>Yes</th>\n",
       "      <td>28.0</td>\n",
       "      <td>31.392857</td>\n",
       "      <td>4.565079</td>\n",
       "      <td>21.0</td>\n",
       "      <td>29.00</td>\n",
       "      <td>32.0</td>\n",
       "      <td>34.0</td>\n",
       "      <td>41.0</td>\n",
       "    </tr>\n",
       "  </tbody>\n",
       "</table>\n",
       "</div>"
      ],
      "text/plain": [
       "       Score                                                    \n",
       "       count       mean       std   min    25%   50%   75%   max\n",
       "Active                                                          \n",
       "No      22.0  43.636364  4.135162  38.0  41.25  43.5  45.0  55.0\n",
       "Yes     28.0  31.392857  4.565079  21.0  29.00  32.0  34.0  41.0"
      ]
     },
     "execution_count": 14,
     "metadata": {},
     "output_type": "execute_result"
    }
   ],
   "source": [
    "my_sample.groupby('Active').describe()"
   ]
  },
  {
   "cell_type": "markdown",
   "metadata": {},
   "source": [
    "## Vraag 7\n",
    "\n",
    "(a) $chi^2$ goodness of fit test \n",
    "\n",
    "(b) A = 29  \n",
    "B = 24  \n",
    "c = 27  \n",
    "\n",
    "(c) p-waarde = 0.789\n",
    " \n",
    "(d) p-waard 0.789 > 0.05  -> er is geen voldoende aanwijzing om de H0 hypothese te verwerpen.  \n",
    "\n",
    "(e) Ja, in elke categorie is de verwachte frequentie e > 1.  \n",
    "\n",
    "(f) Cramers V = 0.0545 -> Geen associatie  "
   ]
  },
  {
   "cell_type": "code",
   "execution_count": 16,
   "metadata": {},
   "outputs": [
    {
     "data": {
      "text/html": [
       "<div>\n",
       "<style scoped>\n",
       "    .dataframe tbody tr th:only-of-type {\n",
       "        vertical-align: middle;\n",
       "    }\n",
       "\n",
       "    .dataframe tbody tr th {\n",
       "        vertical-align: top;\n",
       "    }\n",
       "\n",
       "    .dataframe thead th {\n",
       "        text-align: right;\n",
       "    }\n",
       "</style>\n",
       "<table border=\"1\" class=\"dataframe\">\n",
       "  <thead>\n",
       "    <tr style=\"text-align: right;\">\n",
       "      <th></th>\n",
       "      <th>Category</th>\n",
       "      <th>Soda</th>\n",
       "    </tr>\n",
       "  </thead>\n",
       "  <tbody>\n",
       "    <tr>\n",
       "      <th>0</th>\n",
       "      <td>C</td>\n",
       "      <td>PittCola</td>\n",
       "    </tr>\n",
       "    <tr>\n",
       "      <th>1</th>\n",
       "      <td>C</td>\n",
       "      <td>Nuka-Cola</td>\n",
       "    </tr>\n",
       "    <tr>\n",
       "      <th>2</th>\n",
       "      <td>C</td>\n",
       "      <td>Nuka-Cola</td>\n",
       "    </tr>\n",
       "    <tr>\n",
       "      <th>3</th>\n",
       "      <td>A</td>\n",
       "      <td>Nuka-Cola</td>\n",
       "    </tr>\n",
       "    <tr>\n",
       "      <th>4</th>\n",
       "      <td>C</td>\n",
       "      <td>Nozz-A-La</td>\n",
       "    </tr>\n",
       "  </tbody>\n",
       "</table>\n",
       "</div>"
      ],
      "text/plain": [
       "  Category       Soda\n",
       "0        C   PittCola\n",
       "1        C  Nuka-Cola\n",
       "2        C  Nuka-Cola\n",
       "3        A  Nuka-Cola\n",
       "4        C  Nozz-A-La"
      ]
     },
     "execution_count": 16,
     "metadata": {},
     "output_type": "execute_result"
    }
   ],
   "source": [
    "my_sample = pd.DataFrame(data = {\n",
    "'Category':['C', 'C', 'C', 'A', 'C', 'B', 'B', 'A', 'A', 'C', 'B', 'A', 'A', 'C',\n",
    "'C', 'A', 'C', 'B', 'B', 'B', 'A', 'A', 'C', 'B', 'C', 'A',\n",
    "'C', 'A', 'B', 'A', 'B', 'B', 'B', 'B', 'A', 'A', 'B', 'C',\n",
    "'A', 'A', 'B', 'B', 'C', 'C', 'B', 'A', 'B', 'C', 'A', 'C',\n",
    "'C', 'A', 'C', 'A', 'C', 'B', 'A', 'B', 'B', 'A', 'A', 'C',\n",
    "'C', 'B', 'C', 'C', 'C', 'A', 'A', 'C', 'A', 'C', 'A', 'B',\n",
    "'A', 'A', 'B', 'C', 'B', 'A'],\n",
    "'Soda':\n",
    "['PittCola', 'Nuka-Cola', 'Nuka-Cola', 'Nuka-Cola', 'Nozz-A-La',\n",
    "'BuzzCola', 'Nozz-A-La', 'Nozz-A-La', 'Nozz-A-La', 'Nuka-Cola',\n",
    "'Nozz-A-La', 'Nuka-Cola', 'PittCola', 'Nozz-A-La', 'PittCola',\n",
    "'PittCola', 'Nuka-Cola', 'Nozz-A-La', 'BuzzCola', 'Nuka-Cola',\n",
    "'PittCola', 'Nozz-A-La', 'Nozz-A-La', 'BuzzCola', 'BuzzCola',\n",
    "'Nozz-A-La', 'PittCola', 'PittCola', 'BuzzCola', 'Nuka-Cola',\n",
    "'Nuka-Cola', 'PittCola', 'PittCola', 'Nuka-Cola', 'Nuka-Cola',\n",
    "'Nozz-A-La', 'Nuka-Cola', 'Nuka-Cola', 'PittCola', 'BuzzCola',\n",
    "'BuzzCola', 'Nozz-A-La', 'Nozz-A-La', 'Nozz-A-La', 'Nozz-A-La',\n",
    "'BuzzCola', 'BuzzCola', 'PittCola', 'PittCola', 'Nozz-A-La',\n",
    "'Nozz-A-La', 'Nozz-A-La', 'Nuka-Cola', 'PittCola', 'Nuka-Cola',\n",
    "'Nozz-A-La', 'BuzzCola', 'Nuka-Cola', 'Nuka-Cola', 'Nozz-A-La',\n",
    "'Nuka-Cola', 'Nozz-A-La', 'Nuka-Cola', 'Nuka-Cola', 'PittCola',\n",
    "'BuzzCola', 'Nuka-Cola', 'PittCola', 'Nozz-A-La', 'BuzzCola',\n",
    "'Nozz-A-La', 'Nuka-Cola', 'Nozz-A-La', 'Nuka-Cola', 'PittCola',\n",
    "'BuzzCola', 'Nuka-Cola', 'BuzzCola', 'PittCola', 'BuzzCola']\n",
    "})\n",
    "\n",
    "my_sample.head()"
   ]
  },
  {
   "cell_type": "code",
   "execution_count": 21,
   "metadata": {},
   "outputs": [
    {
     "name": "stdout",
     "output_type": "stream",
     "text": [
      "A    29\n",
      "C    27\n",
      "B    24\n",
      "Name: Category, dtype: int64\n"
     ]
    }
   ],
   "source": [
    "# (b) Bereken de teststatistiek (geef symbool en waarde)\n",
    "observed = my_sample.Category.value_counts()\n",
    "print(observed)\n",
    "\n",
    "expected_p = np.array([1/3, 1/3, 1/3])"
   ]
  },
  {
   "cell_type": "code",
   "execution_count": 19,
   "metadata": {},
   "outputs": [
    {
     "name": "stdout",
     "output_type": "stream",
     "text": [
      "Significance level  ⍺ = 0.05\n",
      "Sample size         n = 80\n",
      "k = 3; df = 2\n",
      "Chi-squared        χ² = 0.4750\n",
      "Critical value      g = 5.9915\n",
      "p-value             p = 0.78859689\n"
     ]
    }
   ],
   "source": [
    "# (c) bereken de p-waarde\n",
    "alpha = 0.05               # Significance level\n",
    "n = sum(observed)          # Sample size\n",
    "k = len(observed)          # Number of categories\n",
    "dof = k - 1                # Degrees of freedom\n",
    "expected = expected_p * n  # Expected absolute frequencies in the sample\n",
    "g = stats.chi2.isf(alpha, df=dof)  # Critical value\n",
    "\n",
    "# Goodness-of-fit-test in Python:\n",
    "chi2, p = stats.chisquare(f_obs=observed, f_exp=expected)\n",
    "\n",
    "print(\"Significance level  ⍺ = %.2f\" % alpha)\n",
    "print(\"Sample size         n = %d\" % n)\n",
    "print(\"k = %d; df = %d\" % (k, dof))\n",
    "print(\"Chi-squared        χ² = %.4f\" % chi2)\n",
    "print(\"Critical value      g = %.4f\" % g)\n",
    "print(\"p-value             p = %.8f\" % p)"
   ]
  },
  {
   "cell_type": "code",
   "execution_count": 23,
   "metadata": {},
   "outputs": [
    {
     "name": "stdout",
     "output_type": "stream",
     "text": [
      "A    0.204167\n",
      "C    0.004167\n",
      "B    0.266667\n",
      "Name: Category, dtype: float64\n"
     ]
    }
   ],
   "source": [
    "diffs = (expected - observed)**2 / expected\n",
    "print(diffs)"
   ]
  },
  {
   "cell_type": "code",
   "execution_count": 24,
   "metadata": {},
   "outputs": [
    {
     "name": "stdout",
     "output_type": "stream",
     "text": [
      "χ² ≈ 0.475\n"
     ]
    }
   ],
   "source": [
    "chi_squared = diffs.values.sum()\n",
    "print('χ² ≈ %.3f' %chi_squared)"
   ]
  },
  {
   "cell_type": "code",
   "execution_count": 25,
   "metadata": {},
   "outputs": [
    {
     "name": "stdout",
     "output_type": "stream",
     "text": [
      "0.054486236794258416\n"
     ]
    }
   ],
   "source": [
    "# (f) bereken Cramers V\n",
    "dof = min(observed.shape) - 1\n",
    "cramers_v = np.sqrt(chi_squared / (dof * n))\n",
    "print(cramers_v)"
   ]
  },
  {
   "cell_type": "markdown",
   "metadata": {},
   "source": [
    "## Vraag 8\n",
    "\n",
    "(a) Richtingscoëfficiënt = -0.105\n",
    "Regressierechte -> ŷ = 444.31 + -0.11 x\n",
    "\n",
    "(b) Het snijpunt van de regressierechte met de y-as is: 444.305  \n",
    "\n",
    "(c) De correlatiecoëfficiënt R = -0.706    \n",
    "\n",
    "(d) Teken is negatief -> dalend verband.    \n",
    "Grootte van R < 0.3 -> zeer zwak verband.  \n",
    "\n",
    "(e) De determinatiecoëfficiënt $R^2$ = 0.498\n",
    "\n",
    "(f) 0.25 < 0.498 < 0.5 -> gematigd verband   "
   ]
  },
  {
   "cell_type": "code",
   "execution_count": 26,
   "metadata": {},
   "outputs": [
    {
     "data": {
      "text/html": [
       "<div>\n",
       "<style scoped>\n",
       "    .dataframe tbody tr th:only-of-type {\n",
       "        vertical-align: middle;\n",
       "    }\n",
       "\n",
       "    .dataframe tbody tr th {\n",
       "        vertical-align: top;\n",
       "    }\n",
       "\n",
       "    .dataframe thead th {\n",
       "        text-align: right;\n",
       "    }\n",
       "</style>\n",
       "<table border=\"1\" class=\"dataframe\">\n",
       "  <thead>\n",
       "    <tr style=\"text-align: right;\">\n",
       "      <th></th>\n",
       "      <th>x</th>\n",
       "      <th>y</th>\n",
       "    </tr>\n",
       "  </thead>\n",
       "  <tbody>\n",
       "    <tr>\n",
       "      <th>0</th>\n",
       "      <td>604</td>\n",
       "      <td>379</td>\n",
       "    </tr>\n",
       "    <tr>\n",
       "      <th>1</th>\n",
       "      <td>528</td>\n",
       "      <td>392</td>\n",
       "    </tr>\n",
       "    <tr>\n",
       "      <th>2</th>\n",
       "      <td>419</td>\n",
       "      <td>401</td>\n",
       "    </tr>\n",
       "    <tr>\n",
       "      <th>3</th>\n",
       "      <td>457</td>\n",
       "      <td>404</td>\n",
       "    </tr>\n",
       "    <tr>\n",
       "      <th>4</th>\n",
       "      <td>475</td>\n",
       "      <td>388</td>\n",
       "    </tr>\n",
       "  </tbody>\n",
       "</table>\n",
       "</div>"
      ],
      "text/plain": [
       "     x    y\n",
       "0  604  379\n",
       "1  528  392\n",
       "2  419  401\n",
       "3  457  404\n",
       "4  475  388"
      ]
     },
     "execution_count": 26,
     "metadata": {},
     "output_type": "execute_result"
    }
   ],
   "source": [
    "sample_data = pd.DataFrame(data = {\n",
    "'x': [604, 528, 419, 457, 475, 449, 457, 534, 513, 477, 409, 464, 461,\n",
    "488, 556, 537, 520, 481, 502, 502, 529, 503, 552, 552,\n",
    "406, 480, 572, 509, 506, 520, 480, 549, 424, 557, 548,\n",
    "550, 508, 453, 555, 497, 568, 419, 442, 543, 584, 437,\n",
    "553, 475, 487, 630, 520, 544, 461, 441, 498, 381, 399,\n",
    "443, 551, 485, 560, 558, 495, 547, 546, 512, 620, 505,\n",
    "466, 518, 536, 466, 519, 552, 499, 492, 522, 494, 500,\n",
    "463, 542, 531, 588, 497, 433, 497, 564, 519, 485, 512,\n",
    "592, 410, 491, 499, 475, 473, 546, 551, 456, 508],\n",
    "'y': [379, 392, 401, 404, 388, 393, 398, 383, 382, 400, 400, 393, 401,\n",
    "392, 384, 393, 387, 395, 399, 390, 393, 383, 386, 379,\n",
    "398, 398, 385, 376, 387, 386, 405, 391, 395, 390, 384,\n",
    "387, 389, 395, 388, 386, 390, 404, 405, 393, 387, 387,\n",
    "385, 394, 404, 381, 394, 383, 403, 402, 393, 406, 407,396, 396, 395, 378, 384, 390, 388, 397, 384, 375, 397,\n",
    "395, 394, 379, 391, 386, 385, 391, 392, 384, 382, 386,\n",
    "389, 387, 389, 385, 388, 391, 396, 381, 393, 390, 389,\n",
    "389, 404, 392, 389, 394, 400, 378, 390, 407, 398]})\n",
    "\n",
    "sample_data.head()"
   ]
  },
  {
   "cell_type": "code",
   "execution_count": 27,
   "metadata": {},
   "outputs": [
    {
     "data": {
      "text/plain": [
       "<AxesSubplot:xlabel='x', ylabel='y'>"
      ]
     },
     "execution_count": 27,
     "metadata": {},
     "output_type": "execute_result"
    },
    {
     "data": {
      "image/png": "[encoded data removed]",
      "text/plain": [
       "<Figure size 432x288 with 1 Axes>"
      ]
     },
     "metadata": {
      "needs_background": "light"
     },
     "output_type": "display_data"
    }
   ],
   "source": [
    "# Plot\n",
    "sns.regplot(x = sample_data.x, y = sample_data.y)\n",
    "# Geen sterk verband tussen x en y want de puntjes staan overal "
   ]
  },
  {
   "cell_type": "code",
   "execution_count": 28,
   "metadata": {},
   "outputs": [
    {
     "name": "stdout",
     "output_type": "stream",
     "text": [
      "Regression line: ŷ = 444.31 + -0.11 x\n"
     ]
    }
   ],
   "source": [
    "from sklearn.linear_model import LinearRegression\n",
    "\n",
    "x = sample_data.x.values.reshape(-1,1)\n",
    "y = sample_data.y\n",
    "\n",
    "weight_model = LinearRegression().fit(x, y)\n",
    "\n",
    "print(f\"Regression line: ŷ = {weight_model.intercept_:.2f} + {weight_model.coef_[0]:.2f} x\")"
   ]
  },
  {
   "cell_type": "code",
   "execution_count": 29,
   "metadata": {},
   "outputs": [
    {
     "name": "stdout",
     "output_type": "stream",
     "text": [
      "De richtingscoefficient is -0.10525405284163693\n"
     ]
    }
   ],
   "source": [
    "print(f\"De richtingscoefficient is {weight_model.coef_[0]}\")"
   ]
  },
  {
   "cell_type": "code",
   "execution_count": 30,
   "metadata": {},
   "outputs": [
    {
     "name": "stdout",
     "output_type": "stream",
     "text": [
      "Het snijpunt met de y-as is: 444.3054034960436\n"
     ]
    }
   ],
   "source": [
    "print(f\"Het snijpunt met de y-as is: {weight_model.intercept_}\")"
   ]
  },
  {
   "cell_type": "code",
   "execution_count": 32,
   "metadata": {},
   "outputs": [
    {
     "name": "stdout",
     "output_type": "stream",
     "text": [
      "R = -0.7056937565224055\n"
     ]
    }
   ],
   "source": [
    "# correlatiecoefficient\n",
    "cor = np.corrcoef(sample_data.x, sample_data.y)[0][1]\n",
    "print(f\"R = {cor}\")"
   ]
  },
  {
   "cell_type": "code",
   "execution_count": 33,
   "metadata": {},
   "outputs": [
    {
     "name": "stdout",
     "output_type": "stream",
     "text": [
      "R^2 = 0.49800367799470413\n"
     ]
    }
   ],
   "source": [
    "# determinatiecoefficient ook wel R^2\n",
    "print(f\"R^2 = {cor**2}\")"
   ]
  },
  {
   "cell_type": "markdown",
   "metadata": {},
   "source": [
    "## Vraag 9\n",
    "\n",
    "(a) Lijn A: Eenvoudig voortschrijdend gemiddelde met periode 20  \n",
    "\n",
    "(b) Lijn B: Eenvoudig voortschrijdend gemiddelde met periode 15  "
   ]
  }
 ],
 "metadata": {
  "interpreter": {
   "hash": "c524eb37020c922c7f1bad69466b570d60502cb65c55fa9a4a71ad1824bf215e"
  },
  "kernelspec": {
   "display_name": "Python 3.9.2 64-bit",
   "language": "python",
   "name": "python3"
  },
  "language_info": {
   "codemirror_mode": {
    "name": "ipython",
    "version": 3
   },
   "file_extension": ".py",
   "mimetype": "text/x-python",
   "name": "python",
   "nbconvert_exporter": "python",
   "pygments_lexer": "ipython3",
   "version": "3.9.2"
  },
  "orig_nbformat": 4
 },
 "nbformat": 4,
 "nbformat_minor": 2
}
